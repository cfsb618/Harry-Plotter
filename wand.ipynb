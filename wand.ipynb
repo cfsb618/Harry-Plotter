{
 "cells": [
  {
   "cell_type": "code",
   "execution_count": 39,
   "id": "6abe9f4b-27da-4b08-bfed-ca3fae2d8cd5",
   "metadata": {},
   "outputs": [],
   "source": [
    "import numpy as np\n",
    "import pandas as pd\n",
    "import matplotlib.pyplot as plt\n",
    "from matplotlib.ticker import (MultipleLocator, AutoMinorLocator)\n",
    "\n",
    "from numbers_parser import Document\n",
    "from os import path as path\n",
    "import collections\n",
    "\n",
    "import Dumbleplot as dp"
   ]
  },
  {
   "cell_type": "markdown",
   "id": "1b8ae90e-5589-454c-9487-9dbd1b62bf75",
   "metadata": {},
   "source": [
    "#### Cast: Give path to file and filename:"
   ]
  },
  {
   "cell_type": "code",
   "execution_count": 40,
   "id": "9cd9b91a-88f2-4652-bfe9-ee266a47049b",
   "metadata": {},
   "outputs": [],
   "source": [
    "pathtofile = \"/Users/scibook/Eigen/PhD/Experiments/LLPS/20240425 cell extract spin column concentration/Data\"\n",
    "filename = \"flow-through.numbers\""
   ]
  },
  {
   "cell_type": "markdown",
   "id": "c6bd936d-f540-46f0-8593-6b68f47564c1",
   "metadata": {},
   "source": [
    "#### Cast: Give information how your data is organised:"
   ]
  },
  {
   "cell_type": "code",
   "execution_count": 41,
   "id": "4f61567c-4cd2-410c-9c33-89c2962f1ab8",
   "metadata": {},
   "outputs": [],
   "source": [
    "data_organised_in_rows_or_columns = \"columns\"\n",
    "\n",
    "# rows:\n",
    "# x, ... , xn\n",
    "# y1, ... , y1n\n",
    "# y2, ... , y2n\n",
    "\n",
    "# columns:\n",
    "# x, y1, y2\n",
    "# ... , .., ..\n",
    "# xn, y1n, y2n"
   ]
  },
  {
   "cell_type": "code",
   "execution_count": 42,
   "id": "7949e095-9e3a-4d33-bb6a-16b167539ac4",
   "metadata": {},
   "outputs": [],
   "source": [
    "# only relevant to change for .numbers-files!\n",
    "# trigger anyways\n",
    "# string or int\n",
    "get_data_from_sheet= \"Sheet 1\"\n",
    "table = \"Amicon Ultra 3k\" \n",
    "data_in_head = False  # only relevant for xdata stored in the first row. If so, set to True "
   ]
  },
  {
   "cell_type": "markdown",
   "id": "e0be23ac-6b12-4c4f-bf68-a79dd2425549",
   "metadata": {},
   "source": [
    "#### Import Data"
   ]
  },
  {
   "cell_type": "code",
   "execution_count": 43,
   "id": "15a8be93-17da-4943-9723-f459eb5222b5",
   "metadata": {},
   "outputs": [
    {
     "data": {
      "text/html": [
       "<div>\n",
       "<style scoped>\n",
       "    .dataframe tbody tr th:only-of-type {\n",
       "        vertical-align: middle;\n",
       "    }\n",
       "\n",
       "    .dataframe tbody tr th {\n",
       "        vertical-align: top;\n",
       "    }\n",
       "\n",
       "    .dataframe thead th {\n",
       "        text-align: right;\n",
       "    }\n",
       "</style>\n",
       "<table border=\"1\" class=\"dataframe\">\n",
       "  <thead>\n",
       "    <tr style=\"text-align: right;\">\n",
       "      <th></th>\n",
       "      <th>min</th>\n",
       "      <th>flow-through</th>\n",
       "      <th>None</th>\n",
       "      <th>None</th>\n",
       "      <th>None</th>\n",
       "      <th>None</th>\n",
       "      <th>None</th>\n",
       "    </tr>\n",
       "  </thead>\n",
       "  <tbody>\n",
       "    <tr>\n",
       "      <th>0</th>\n",
       "      <td>1.0</td>\n",
       "      <td>20.0</td>\n",
       "      <td>None</td>\n",
       "      <td>None</td>\n",
       "      <td>None</td>\n",
       "      <td>None</td>\n",
       "      <td>None</td>\n",
       "    </tr>\n",
       "    <tr>\n",
       "      <th>1</th>\n",
       "      <td>5.0</td>\n",
       "      <td>125.0</td>\n",
       "      <td>None</td>\n",
       "      <td>None</td>\n",
       "      <td>None</td>\n",
       "      <td>None</td>\n",
       "      <td>None</td>\n",
       "    </tr>\n",
       "    <tr>\n",
       "      <th>2</th>\n",
       "      <td>6.0</td>\n",
       "      <td>138.0</td>\n",
       "      <td>None</td>\n",
       "      <td>None</td>\n",
       "      <td>None</td>\n",
       "      <td>None</td>\n",
       "      <td>None</td>\n",
       "    </tr>\n",
       "    <tr>\n",
       "      <th>3</th>\n",
       "      <td>7.0</td>\n",
       "      <td>146.5</td>\n",
       "      <td>None</td>\n",
       "      <td>None</td>\n",
       "      <td>None</td>\n",
       "      <td>None</td>\n",
       "      <td>None</td>\n",
       "    </tr>\n",
       "    <tr>\n",
       "      <th>4</th>\n",
       "      <td>8.0</td>\n",
       "      <td>156.0</td>\n",
       "      <td>None</td>\n",
       "      <td>None</td>\n",
       "      <td>None</td>\n",
       "      <td>None</td>\n",
       "      <td>None</td>\n",
       "    </tr>\n",
       "    <tr>\n",
       "      <th>5</th>\n",
       "      <td>NaN</td>\n",
       "      <td>NaN</td>\n",
       "      <td>None</td>\n",
       "      <td>None</td>\n",
       "      <td>None</td>\n",
       "      <td>None</td>\n",
       "      <td>None</td>\n",
       "    </tr>\n",
       "    <tr>\n",
       "      <th>6</th>\n",
       "      <td>NaN</td>\n",
       "      <td>NaN</td>\n",
       "      <td>None</td>\n",
       "      <td>None</td>\n",
       "      <td>None</td>\n",
       "      <td>None</td>\n",
       "      <td>None</td>\n",
       "    </tr>\n",
       "    <tr>\n",
       "      <th>7</th>\n",
       "      <td>NaN</td>\n",
       "      <td>NaN</td>\n",
       "      <td>None</td>\n",
       "      <td>None</td>\n",
       "      <td>None</td>\n",
       "      <td>None</td>\n",
       "      <td>None</td>\n",
       "    </tr>\n",
       "    <tr>\n",
       "      <th>8</th>\n",
       "      <td>NaN</td>\n",
       "      <td>NaN</td>\n",
       "      <td>None</td>\n",
       "      <td>None</td>\n",
       "      <td>None</td>\n",
       "      <td>None</td>\n",
       "      <td>None</td>\n",
       "    </tr>\n",
       "    <tr>\n",
       "      <th>9</th>\n",
       "      <td>NaN</td>\n",
       "      <td>NaN</td>\n",
       "      <td>None</td>\n",
       "      <td>None</td>\n",
       "      <td>None</td>\n",
       "      <td>None</td>\n",
       "      <td>None</td>\n",
       "    </tr>\n",
       "    <tr>\n",
       "      <th>10</th>\n",
       "      <td>NaN</td>\n",
       "      <td>NaN</td>\n",
       "      <td>None</td>\n",
       "      <td>None</td>\n",
       "      <td>None</td>\n",
       "      <td>None</td>\n",
       "      <td>None</td>\n",
       "    </tr>\n",
       "    <tr>\n",
       "      <th>11</th>\n",
       "      <td>NaN</td>\n",
       "      <td>NaN</td>\n",
       "      <td>None</td>\n",
       "      <td>None</td>\n",
       "      <td>None</td>\n",
       "      <td>None</td>\n",
       "      <td>None</td>\n",
       "    </tr>\n",
       "    <tr>\n",
       "      <th>12</th>\n",
       "      <td>NaN</td>\n",
       "      <td>NaN</td>\n",
       "      <td>None</td>\n",
       "      <td>None</td>\n",
       "      <td>None</td>\n",
       "      <td>None</td>\n",
       "      <td>None</td>\n",
       "    </tr>\n",
       "    <tr>\n",
       "      <th>13</th>\n",
       "      <td>NaN</td>\n",
       "      <td>NaN</td>\n",
       "      <td>None</td>\n",
       "      <td>None</td>\n",
       "      <td>None</td>\n",
       "      <td>None</td>\n",
       "      <td>None</td>\n",
       "    </tr>\n",
       "    <tr>\n",
       "      <th>14</th>\n",
       "      <td>NaN</td>\n",
       "      <td>NaN</td>\n",
       "      <td>None</td>\n",
       "      <td>None</td>\n",
       "      <td>None</td>\n",
       "      <td>None</td>\n",
       "      <td>None</td>\n",
       "    </tr>\n",
       "    <tr>\n",
       "      <th>15</th>\n",
       "      <td>NaN</td>\n",
       "      <td>NaN</td>\n",
       "      <td>None</td>\n",
       "      <td>None</td>\n",
       "      <td>None</td>\n",
       "      <td>None</td>\n",
       "      <td>None</td>\n",
       "    </tr>\n",
       "    <tr>\n",
       "      <th>16</th>\n",
       "      <td>NaN</td>\n",
       "      <td>NaN</td>\n",
       "      <td>None</td>\n",
       "      <td>None</td>\n",
       "      <td>None</td>\n",
       "      <td>None</td>\n",
       "      <td>None</td>\n",
       "    </tr>\n",
       "    <tr>\n",
       "      <th>17</th>\n",
       "      <td>NaN</td>\n",
       "      <td>NaN</td>\n",
       "      <td>None</td>\n",
       "      <td>None</td>\n",
       "      <td>None</td>\n",
       "      <td>None</td>\n",
       "      <td>None</td>\n",
       "    </tr>\n",
       "    <tr>\n",
       "      <th>18</th>\n",
       "      <td>NaN</td>\n",
       "      <td>NaN</td>\n",
       "      <td>None</td>\n",
       "      <td>None</td>\n",
       "      <td>None</td>\n",
       "      <td>None</td>\n",
       "      <td>None</td>\n",
       "    </tr>\n",
       "    <tr>\n",
       "      <th>19</th>\n",
       "      <td>NaN</td>\n",
       "      <td>NaN</td>\n",
       "      <td>None</td>\n",
       "      <td>None</td>\n",
       "      <td>None</td>\n",
       "      <td>None</td>\n",
       "      <td>None</td>\n",
       "    </tr>\n",
       "    <tr>\n",
       "      <th>20</th>\n",
       "      <td>NaN</td>\n",
       "      <td>NaN</td>\n",
       "      <td>None</td>\n",
       "      <td>None</td>\n",
       "      <td>None</td>\n",
       "      <td>None</td>\n",
       "      <td>None</td>\n",
       "    </tr>\n",
       "  </tbody>\n",
       "</table>\n",
       "</div>"
      ],
      "text/plain": [
       "    min  flow-through  None  None  None  None  None\n",
       "0   1.0          20.0  None  None  None  None  None\n",
       "1   5.0         125.0  None  None  None  None  None\n",
       "2   6.0         138.0  None  None  None  None  None\n",
       "3   7.0         146.5  None  None  None  None  None\n",
       "4   8.0         156.0  None  None  None  None  None\n",
       "5   NaN           NaN  None  None  None  None  None\n",
       "6   NaN           NaN  None  None  None  None  None\n",
       "7   NaN           NaN  None  None  None  None  None\n",
       "8   NaN           NaN  None  None  None  None  None\n",
       "9   NaN           NaN  None  None  None  None  None\n",
       "10  NaN           NaN  None  None  None  None  None\n",
       "11  NaN           NaN  None  None  None  None  None\n",
       "12  NaN           NaN  None  None  None  None  None\n",
       "13  NaN           NaN  None  None  None  None  None\n",
       "14  NaN           NaN  None  None  None  None  None\n",
       "15  NaN           NaN  None  None  None  None  None\n",
       "16  NaN           NaN  None  None  None  None  None\n",
       "17  NaN           NaN  None  None  None  None  None\n",
       "18  NaN           NaN  None  None  None  None  None\n",
       "19  NaN           NaN  None  None  None  None  None\n",
       "20  NaN           NaN  None  None  None  None  None"
      ]
     },
     "execution_count": 43,
     "metadata": {},
     "output_type": "execute_result"
    }
   ],
   "source": [
    "spellbook = dp.DataImport(pathtofile, filename)\n",
    "spellbook.import_data(get_data_from_sheet, table)\n",
    "spellbook.df\n",
    "x_data = [\"min\"]\n",
    "y_data = [\"flow-through\"]\n",
    "until_column = 4"
   ]
  },
  {
   "cell_type": "markdown",
   "id": "bcec4b07-04e0-4af8-be98-d9e93c5b09a7",
   "metadata": {},
   "source": [
    "#### Cast: Give information where to find your data:"
   ]
  },
  {
   "cell_type": "code",
   "execution_count": 44,
   "id": "ed7b9f85-3595-47d6-8b61-84b4c852fdaf",
   "metadata": {},
   "outputs": [],
   "source": [
    "first_cell = 0, \"min\"  # row, column\n",
    "last_cell = 4, \"flow-through\""
   ]
  },
  {
   "cell_type": "markdown",
   "id": "1d780435-11db-46a1-8609-df5c86970a93",
   "metadata": {},
   "source": [
    "#### Display data selection"
   ]
  },
  {
   "cell_type": "code",
   "execution_count": 45,
   "id": "1dcec43e-d180-440a-a0e6-03e3af3924c0",
   "metadata": {},
   "outputs": [
    {
     "data": {
      "text/html": [
       "<div>\n",
       "<style scoped>\n",
       "    .dataframe tbody tr th:only-of-type {\n",
       "        vertical-align: middle;\n",
       "    }\n",
       "\n",
       "    .dataframe tbody tr th {\n",
       "        vertical-align: top;\n",
       "    }\n",
       "\n",
       "    .dataframe thead th {\n",
       "        text-align: right;\n",
       "    }\n",
       "</style>\n",
       "<table border=\"1\" class=\"dataframe\">\n",
       "  <thead>\n",
       "    <tr style=\"text-align: right;\">\n",
       "      <th></th>\n",
       "      <th>min</th>\n",
       "      <th>flow-through</th>\n",
       "    </tr>\n",
       "  </thead>\n",
       "  <tbody>\n",
       "    <tr>\n",
       "      <th>0</th>\n",
       "      <td>1.0</td>\n",
       "      <td>20.0</td>\n",
       "    </tr>\n",
       "    <tr>\n",
       "      <th>1</th>\n",
       "      <td>5.0</td>\n",
       "      <td>125.0</td>\n",
       "    </tr>\n",
       "    <tr>\n",
       "      <th>2</th>\n",
       "      <td>6.0</td>\n",
       "      <td>138.0</td>\n",
       "    </tr>\n",
       "    <tr>\n",
       "      <th>3</th>\n",
       "      <td>7.0</td>\n",
       "      <td>146.5</td>\n",
       "    </tr>\n",
       "    <tr>\n",
       "      <th>4</th>\n",
       "      <td>8.0</td>\n",
       "      <td>156.0</td>\n",
       "    </tr>\n",
       "  </tbody>\n",
       "</table>\n",
       "</div>"
      ],
      "text/plain": [
       "   min  flow-through\n",
       "0  1.0          20.0\n",
       "1  5.0         125.0\n",
       "2  6.0         138.0\n",
       "3  7.0         146.5\n",
       "4  8.0         156.0"
      ]
     },
     "execution_count": 45,
     "metadata": {},
     "output_type": "execute_result"
    }
   ],
   "source": [
    "spells = dp.Data(data_organised_in_rows_or_columns) \n",
    "spells.get_data(spellbook.df, first_cell, last_cell)\n",
    "spells.data_table"
   ]
  },
  {
   "cell_type": "markdown",
   "id": "02c39499-7662-4d79-94bf-2c1f3dc81c4f",
   "metadata": {},
   "source": [
    "#### Cast: select which data should be display"
   ]
  },
  {
   "cell_type": "code",
   "execution_count": 46,
   "id": "18df5a6c-81b5-4d4f-b7d7-8660c5dbad2d",
   "metadata": {},
   "outputs": [],
   "source": [
    "# select y-data\n",
    "# [\"name1\", \"name2\", ...] or [idx, idx, ...]\n",
    "y_data = [\n",
    "    \"flow-through\"\n",
    "]"
   ]
  },
  {
   "cell_type": "code",
   "execution_count": 47,
   "id": "849d815a-e972-4869-a265-257568e269df",
   "metadata": {},
   "outputs": [],
   "source": [
    "# select x-data\n",
    "# [\"name1\"] or [idx]\n",
    "# can take multiple inputs, but then every y-data needs one specified x-data. Plotting happens in the order the data is provided.\n",
    "x_data = [\n",
    "    \"min\"\n",
    "]"
   ]
  },
  {
   "cell_type": "code",
   "execution_count": 48,
   "id": "c4a18941-8b03-4e70-be79-2f6b34750e5a",
   "metadata": {},
   "outputs": [],
   "source": [
    "# select errorbar values\n",
    "# if no errorbars are desired, set to None\n",
    "# [\"name1\", \"name2\", ...]\n",
    "# can take multiple inputs, but then every y-data needs one specified x-data. Plotting happens in the order the data is provided.\n",
    "errorbars = [\n",
    "    None\n",
    "]"
   ]
  },
  {
   "cell_type": "markdown",
   "id": "c8d7c2b7-9360-4ccf-bb09-8c663871c25c",
   "metadata": {},
   "source": [
    "#### Does Data magic"
   ]
  },
  {
   "cell_type": "code",
   "execution_count": 49,
   "id": "bf7d2496-841d-4bea-83b8-e266c01deaf5",
   "metadata": {},
   "outputs": [
    {
     "name": "stdout",
     "output_type": "stream",
     "text": [
      "added column: flow-through\n"
     ]
    }
   ],
   "source": [
    "# set idx to True if you have enter idx values for x- or y-data\n",
    "spells.make_dict(y_data, spellbook.ext, first_cell, idx=False)\n",
    "spells.get_xdata(data_in_head, x_data, idx=False)\n",
    "spells.delete_nans()\n",
    "spells.get_errorbar(errorbars)"
   ]
  },
  {
   "cell_type": "markdown",
   "id": "848d3675-4eb2-4da7-9b0a-44fb89f64df0",
   "metadata": {},
   "source": [
    "#### Cast: specify plot properties of each dataset"
   ]
  },
  {
   "cell_type": "code",
   "execution_count": 56,
   "id": "868eed65-0f31-4e88-b2c3-dbe34a670a87",
   "metadata": {},
   "outputs": [],
   "source": [
    "n=1"
   ]
  },
  {
   "cell_type": "code",
   "execution_count": 57,
   "id": "445386b3-8644-47c2-aa18-583acbdb4989",
   "metadata": {},
   "outputs": [],
   "source": [
    "# copy for each dataset you want to display\n",
    "spells.ydata[n][\"marker\"] = \"o\"  # alternatives: \"x\", \"^\", \"v\", \"s\", \"o\"\n",
    "spells.ydata[n][\"linestyle\"] = \"solid\"  # alternatives: \"solid\", \"dotted\", \"dashdot\", \"dashed\" or \"\" for no line\n",
    "spells.ydata[n][\"color\"] = None  # \"None\" for default colors, alternative: hexcolors or names (hence \"green\")\n",
    "spells.ydata[n][\"regression\"] = False  # None for no regression, \"True\" for linear regression\n",
    "\n",
    "n += 1  # do not change"
   ]
  },
  {
   "cell_type": "code",
   "execution_count": 21,
   "id": "8a5c637d-9dcc-4161-8aad-c783f933eace",
   "metadata": {},
   "outputs": [],
   "source": [
    "for n in range(6, 11):\n",
    "    # copy for each dataset you want to display\n",
    "    spells.ydata[n][\"marker\"] = \"s\"  # alternatives: \"x\", \"^\", \"v\", \"s\", \"o\"\n",
    "    spells.ydata[n][\"linestyle\"] = \"solid\"  # alternatives: \"solid\", \"dotted\", \"dashdot\", \"dashed\" or \"\" for no line\n",
    "    spells.ydata[n][\"color\"] = None  # \"None\" for default colors, alternative: hexcolors or names (hence \"green\")\n",
    "    spells.ydata[n][\"regression\"] = False  # None for no regression, \"True\" for linear regression\n",
    "\n",
    "#n += 1  # do not change"
   ]
  },
  {
   "cell_type": "markdown",
   "id": "b87529f5-6ddf-4603-8383-7850d86bead1",
   "metadata": {},
   "source": [
    "#### Cast: specify the properties of the general plot"
   ]
  },
  {
   "cell_type": "code",
   "execution_count": 58,
   "id": "7a9750dd-a4b5-4bfd-a734-dc851cf31e50",
   "metadata": {},
   "outputs": [],
   "source": [
    "# specify the properties of the general plot\n",
    "plot_properties = {\n",
    "    \"figname\" : \"flow-through\",\n",
    "    \"formats\" : [\"png\", \"svg\"],  # \"svg\", \"png\", \"jpeg\", \"bmp\"\n",
    "    \"xlabel\" : \"centrifugation time [min]\",\n",
    "    \"ylabel\" : \"flow-through [µL]\",\n",
    "    \"x-range\" : [None, None],  # [None, None] for default, otherwise [startvalue, endvalue]\n",
    "    \"y-range\" : [None, None],  \n",
    "    \"x-ticks\" : None,  # specify number of labeld major ticks on each axis, None is automode\n",
    "    \"y-ticks\" : None,\n",
    "    \"x-minor\" : 2,  # specify number of minor ticks between major ticks, 2 or 5 is best, None is automode\n",
    "    \"y-minor\" : 2,\n",
    "    \"xaxis-type\": \"lin\",  # can be set to \"lin\" or \"log\"\n",
    "    \"yaxis-type\": \"lin\",\n",
    "    \"fontsizefactor\" : 1.2\n",
    "}"
   ]
  },
  {
   "cell_type": "markdown",
   "id": "1fee4d5f-c236-4783-a7d0-dadf99ab3a2e",
   "metadata": {},
   "source": [
    "#### Accio Plot"
   ]
  },
  {
   "cell_type": "code",
   "execution_count": 59,
   "id": "1e699535-e218-4762-907a-d06d1362392b",
   "metadata": {
    "jupyter": {
     "source_hidden": true
    }
   },
   "outputs": [],
   "source": [
    "hp = dp.Plotter(plot_properties)\n",
    "hp.set_limits()\n",
    "hp.set_major_ticks()"
   ]
  },
  {
   "cell_type": "code",
   "execution_count": 60,
   "id": "858cb8a2-285b-4dc3-9c6f-3b74f41addb4",
   "metadata": {
    "jupyter": {
     "source_hidden": true
    }
   },
   "outputs": [
    {
     "name": "stdout",
     "output_type": "stream",
     "text": [
      "Accio plot!\n",
      "｡ﾟ.\n",
      "(｀･ᴗ･)━☆ﾟ･ﾟ:*❤\n",
      "*｡ﾟ\n",
      " . \n"
     ]
    },
    {
     "data": {
      "image/png": "[encoded data removed]",
      "text/plain": [
       "<Figure size 640x480 with 1 Axes>"
      ]
     },
     "metadata": {},
     "output_type": "display_data"
    }
   ],
   "source": [
    "# main plot; all in one\n",
    "hp.cast_magic()\n",
    "\n",
    "fig = plt.figure()\n",
    "ax = fig.add_subplot(111)\n",
    "\n",
    "# plot datasets\n",
    "for data in spells.ydata:\n",
    "    dataset = spells.ydata[data]\n",
    "    ax.errorbar(dataset[\"xdata\"], dataset[\"data\"], xerr=None, yerr=dataset[\"error\"], capsize=5,\n",
    "                marker = dataset[\"marker\"], linestyle = dataset[\"linestyle\"], color = dataset[\"color\"], label = dataset[\"name\"])\n",
    "\n",
    "    # check for regression\n",
    "    if dataset[\"regression\"] is True:\n",
    "        reg = dp.Regression()\n",
    "        xdf = pd.DataFrame(dataset[\"xdata\"]) #xdf was originally dataset[\"xdata\"] and this line was not here\n",
    "        ydf = pd.DataFrame(dataset[\"data\"]) # problem is only because delete_nans generates list, but if they are changed to df, some more errors occure. URGENT\n",
    "        y_pred, m, c = reg.linreg(xdf.values.reshape(-1, 1), ydf.values, dataset[\"name\"], do_linreg = True)\n",
    "        ax.plot(xdf, y_pred, color = dataset[\"color\"]) # xdf = spells.ydata[0][\"xdata\"]\n",
    "\n",
    "\n",
    "# adjust plot\n",
    "ax.set_xlabel(hp.pp[\"xlabel\"])\n",
    "ax.set_ylabel(hp.pp[\"ylabel\"])\n",
    "ax.xaxis.set_ticks_position('both')\n",
    "ax.yaxis.set_ticks_position('both')\n",
    "\n",
    "ax.set_xlim(hp.pp[\"x-range\"])\n",
    "ax.set_ylim(hp.pp[\"y-range\"])\n",
    "\n",
    "xt, yt = hp.set_lin_log()\n",
    "ax.set_xscale(xt)\n",
    "ax.set_yscale(yt)\n",
    "\n",
    "if hp.pp[\"xtick_number\"] is not None:\n",
    "    ax.xaxis.set_major_locator(hp.pp[\"xtick_number\"])\n",
    "if hp.pp[\"ytick_number\"] is not None:\n",
    "    ax.yaxis.set_major_locator(hp.pp[\"ytick_number\"])\n",
    "\n",
    "xminor, yminor = hp.minor_locator()\n",
    "if hp.pp[\"xaxis-type\"] != \"log\":\n",
    "    ax.xaxis.set_minor_locator(AutoMinorLocator(xminor))\n",
    "if hp.pp[\"yaxis-type\"] != \"log\":\n",
    "    ax.yaxis.set_minor_locator(AutoMinorLocator(yminor))\n",
    "\n",
    "ax.yaxis.label.set_size(10*hp.pp[\"fontsizefactor\"])\n",
    "ax.xaxis.label.set_size(10*hp.pp[\"fontsizefactor\"])\n",
    "ax.tick_params(axis=\"x\", labelsize = 10*hp.pp[\"fontsizefactor\"])\n",
    "ax.tick_params(axis=\"y\", labelsize = 10*hp.pp[\"fontsizefactor\"])\n",
    "\n",
    "\n",
    "##############\n",
    "#Add user defined stuff here\n",
    "#ax.axvline(x=375, label=\"Emission 375 nm\", color=\"red\")\n",
    "#ax.axvspan(370, 380, alpha=0.2, color='red')\n",
    "##############\n",
    "\n",
    "\n",
    "\n",
    "legend = ax.legend()"
   ]
  },
  {
   "cell_type": "markdown",
   "id": "4adb7a49-3d1f-4632-aade-c2f533e712a2",
   "metadata": {},
   "source": [
    "#### Save figure"
   ]
  },
  {
   "cell_type": "code",
   "execution_count": 61,
   "id": "a93c2a96-a6c1-4313-bbcc-5554323bac77",
   "metadata": {},
   "outputs": [],
   "source": [
    "savepath = path.join(pathtofile, plot_properties[\"figname\"])\n",
    "for file_format in plot_properties[\"formats\"]:\n",
    "    fig.savefig(savepath + '.%s' % file_format, dpi=600, format=file_format)"
   ]
  },
  {
   "cell_type": "code",
   "execution_count": null,
   "id": "4ef6cad6-d884-4a5b-a424-32b8b83e1bcf",
   "metadata": {},
   "outputs": [],
   "source": [
    "# secondary plot, indivual datasets"
   ]
  }
 ],
 "metadata": {
  "kernelspec": {
   "display_name": "Python 3 (ipykernel)",
   "language": "python",
   "name": "python3"
  },
  "language_info": {
   "codemirror_mode": {
    "name": "ipython",
    "version": 3
   },
   "file_extension": ".py",
   "mimetype": "text/x-python",
   "name": "python",
   "nbconvert_exporter": "python",
   "pygments_lexer": "ipython3",
   "version": "3.11.7"
  }
 },
 "nbformat": 4,
 "nbformat_minor": 5
}
