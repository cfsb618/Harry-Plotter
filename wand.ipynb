{
 "cells": [
  {
   "cell_type": "code",
   "execution_count": 1,
   "id": "6abe9f4b-27da-4b08-bfed-ca3fae2d8cd5",
   "metadata": {},
   "outputs": [],
   "source": [
    "import numpy as np\n",
    "import pandas as pd\n",
    "import matplotlib.pyplot as plt\n",
    "from matplotlib.ticker import (MultipleLocator, AutoMinorLocator)\n",
    "\n",
    "from numbers_parser import Document\n",
    "from os import path as path\n",
    "import collections\n",
    "\n",
    "import Dumbleplot as dp"
   ]
  },
  {
   "cell_type": "markdown",
   "id": "e0be23ac-6b12-4c4f-bf68-a79dd2425549",
   "metadata": {},
   "source": [
    "#### Import Data"
   ]
  },
  {
   "cell_type": "code",
   "execution_count": 2,
   "id": "19da68d9-ae73-4e14-b569-3ccb9a349e56",
   "metadata": {},
   "outputs": [],
   "source": [
    "spells = dp.Data() "
   ]
  },
  {
   "cell_type": "markdown",
   "id": "a9c6dbe3-50d3-413f-b125-a4a0133417b9",
   "metadata": {},
   "source": [
    "#### Cast: construct dataset"
   ]
  },
  {
   "cell_type": "code",
   "execution_count": 3,
   "id": "15a8be93-17da-4943-9723-f459eb5222b5",
   "metadata": {},
   "outputs": [
    {
     "name": "stdout",
     "output_type": "stream",
     "text": [
      "     cf  extract in chip  ionic strength [mM]\n",
      "0   1.0              1.0                 99.0\n",
      "1   1.1              1.1                108.9\n",
      "2   1.2              1.2                118.8\n",
      "3   1.3              1.3                128.7\n",
      "4   1.4              1.4                138.6\n",
      "5   1.5              1.5                148.5\n",
      "6   1.6              1.6                158.4\n",
      "7   1.7              1.7                168.3\n",
      "8   1.8              1.8                178.2\n",
      "9   1.9              1.9                188.1\n",
      "10  2.0              2.0                198.0\n"
     ]
    }
   ],
   "source": [
    "pathtofile = \"/Users/scibook/Eigen/PhD/Experiments/LLPS/20240425 cell extract spin column concentration/Data\"\n",
    "filename = \"ionic_strength_vs_extract.numbers\"\n",
    "get_data_from_sheet= \"Sheet 1\"\n",
    "table = \"in-chip\"\n",
    "\n",
    "spellbook1 = dp.DataImport(pathtofile, filename)\n",
    "spellbook1.import_data(get_data_from_sheet, table)\n",
    "df = spellbook1.df\n",
    "print(df)\n",
    "\n",
    "x_data = [\"ionic strength [mM]\"]\n",
    "y_data = [\"extract in chip\"]\n",
    "errorbars = None  # None or list: [\"errorbar1\"]\n",
    "until_column = 10\n",
    "\n",
    "spells.get_data(until_column, y_data, x_data, df)\n",
    "spells.get_errors(until_column, errorbars, df)"
   ]
  },
  {
   "cell_type": "code",
   "execution_count": 4,
   "id": "3e4d16ad-4aab-4a8f-b28c-eb95e66bed40",
   "metadata": {},
   "outputs": [],
   "source": [
    "# copy for each dataset you want to display\n",
    "data_properties = {\n",
    "    \"marker\" : \"o\",  # alternatives: \"x\", \"^\", \"v\", \"s\", \"o\"\n",
    "    \"linestyle\" : \"solid\",  # alternatives: \"solid\", \"dotted\", \"dashdot\", \"dashed\" or \"\" for no line\n",
    "    \"color\": None,  # \"None\" for default colors, alternative: hexcolors or names (hence \"green\")\n",
    "    \"regression\": False  # None for no regression, \"True\" for linear regression\n",
    "}\n",
    "spells.plot_properties.append(data_properties)"
   ]
  },
  {
   "cell_type": "markdown",
   "id": "6b45018b-ee69-49b6-b8f9-4df8cb585056",
   "metadata": {},
   "source": [
    "#### Cast: construct dataset"
   ]
  },
  {
   "cell_type": "code",
   "execution_count": 5,
   "id": "24edb3f5-8698-46f4-b1fb-21669a998d0d",
   "metadata": {},
   "outputs": [
    {
     "name": "stdout",
     "output_type": "stream",
     "text": [
      "             None  volume in column  extract spin column theo  \\\n",
      "0              t0             400.0                  1.000000   \n",
      "1  centrifugation             295.0                  1.355932   \n",
      "2         fill-up             375.0                  1.066667   \n",
      "3  centrifugation             270.0                  1.481481   \n",
      "4         fill-up             350.0                  1.142857   \n",
      "5  centrifugation             245.0                  1.632653   \n",
      "6         fill-up             325.0                  1.230769   \n",
      "7  centrifugation             220.0                  1.818182   \n",
      "8         fill-up             300.0                  1.333333   \n",
      "9  centrifugation             195.0                  2.051282   \n",
      "\n",
      "   ionic strength [mM]  \n",
      "0            99.000000  \n",
      "1            99.000000  \n",
      "2           131.213333  \n",
      "3           131.213333  \n",
      "4           158.364571  \n",
      "5           158.364571  \n",
      "6           180.920985  \n",
      "7           180.920985  \n",
      "8           199.342055  \n",
      "9           199.342055  \n"
     ]
    }
   ],
   "source": [
    "pathtofile = \"/Users/scibook/Eigen/PhD/Experiments/LLPS/20240425 cell extract spin column concentration/Data\"\n",
    "filename = \"ionic_strength_vs_extract.numbers\"\n",
    "get_data_from_sheet= \"Sheet 3\"\n",
    "table = \"spin-column1\"\n",
    "\n",
    "spellbook1 = dp.DataImport(pathtofile, filename)\n",
    "spellbook1.import_data(get_data_from_sheet, table)\n",
    "df = spellbook1.df\n",
    "print(df)\n",
    "\n",
    "x_data = [\"ionic strength [mM]\"]\n",
    "y_data = [\"extract spin column theo\"]\n",
    "errorbars = None  # None or list: [\"errorbar1\"]\n",
    "until_column = 9\n",
    "\n",
    "spells.get_data(until_column, y_data, x_data, df)\n",
    "spells.get_errors(until_column, errorbars, df)"
   ]
  },
  {
   "cell_type": "code",
   "execution_count": 6,
   "id": "b862a376-992e-4215-932c-42ec4d36cef7",
   "metadata": {},
   "outputs": [],
   "source": [
    "# copy for each dataset you want to display\n",
    "data_properties = {\n",
    "    \"marker\" : \"s\",  # alternatives: \"x\", \"^\", \"v\", \"s\", \"o\"\n",
    "    \"linestyle\" : \"solid\",  # alternatives: \"solid\", \"dotted\", \"dashdot\", \"dashed\" or \"\" for no line\n",
    "    \"color\": None,  # \"None\" for default colors, alternative: hexcolors or names (hence \"green\")\n",
    "    \"regression\": False  # None for no regression, \"True\" for linear regression\n",
    "}\n",
    "spells.plot_properties.append(data_properties)"
   ]
  },
  {
   "cell_type": "markdown",
   "id": "c8d7c2b7-9360-4ccf-bb09-8c663871c25c",
   "metadata": {},
   "source": [
    "#### Does Data magic"
   ]
  },
  {
   "cell_type": "code",
   "execution_count": 7,
   "id": "bf7d2496-841d-4bea-83b8-e266c01deaf5",
   "metadata": {},
   "outputs": [],
   "source": [
    "# set idx to True if you have enter idx values for x- or y-data\n",
    "spells.construct_dict()\n",
    "#spells.delete_nans()\n",
    "#spells.get_errorbar(errorbars)"
   ]
  },
  {
   "cell_type": "markdown",
   "id": "b87529f5-6ddf-4603-8383-7850d86bead1",
   "metadata": {},
   "source": [
    "#### Cast: specify the properties of the general plot"
   ]
  },
  {
   "cell_type": "code",
   "execution_count": 8,
   "id": "7a9750dd-a4b5-4bfd-a734-dc851cf31e50",
   "metadata": {},
   "outputs": [],
   "source": [
    "# specify the properties of the general plot\n",
    "plot_properties = {\n",
    "    \"figname\" : \"concentration_pathways3\",\n",
    "    \"formats\" : [\"png\", \"svg\"],  # \"svg\", \"png\", \"jpeg\", \"bmp\"\n",
    "    \"xlabel\" : \"ionic strength [mM]\",\n",
    "    \"ylabel\" : \"extract concentration factor [AU]\",\n",
    "    \"x-range\" : [None, None],  # [None, None] for default, otherwise [startvalue, endvalue]\n",
    "    \"y-range\" : [None, None],  \n",
    "    \"x-ticks\" : None,  # specify number of labeld major ticks on each axis, None is automode\n",
    "    \"y-ticks\" : None,\n",
    "    \"x-minor\" : 2,  # specify number of minor ticks between major ticks, 2 or 5 is best, None is automode\n",
    "    \"y-minor\" : 2,\n",
    "    \"xaxis-type\": \"lin\",  # can be set to \"lin\" or \"log\"\n",
    "    \"yaxis-type\": \"lin\",\n",
    "    \"fontsizefactor\" : 1.2\n",
    "}"
   ]
  },
  {
   "cell_type": "markdown",
   "id": "1fee4d5f-c236-4783-a7d0-dadf99ab3a2e",
   "metadata": {},
   "source": [
    "#### Accio Plot"
   ]
  },
  {
   "cell_type": "code",
   "execution_count": 9,
   "id": "858cb8a2-285b-4dc3-9c6f-3b74f41addb4",
   "metadata": {
    "jupyter": {
     "source_hidden": true
    }
   },
   "outputs": [
    {
     "name": "stdout",
     "output_type": "stream",
     "text": [
      "Accio plot!\n",
      "｡ﾟ.\n",
      "ଘ(੭චᴗච)━☆ﾟ.*･\n",
      "*｡ﾟ\n",
      " . \n"
     ]
    },
    {
     "data": {
      "image/png": "[encoded data removed]",
      "text/plain": [
       "<Figure size 640x480 with 1 Axes>"
      ]
     },
     "metadata": {},
     "output_type": "display_data"
    }
   ],
   "source": [
    "# main plot; all in one\n",
    "hp = dp.Plotter(plot_properties)\n",
    "hp.set_limits()\n",
    "hp.set_major_ticks()\n",
    "hp.cast_magic()\n",
    "\n",
    "fig = plt.figure()\n",
    "ax = fig.add_subplot(111)\n",
    "\n",
    "# plot datasets\n",
    "for dataset_nr in spells.dataset:\n",
    "    properties = spells.dataset[dataset_nr]\n",
    "    ax.errorbar(properties[\"xdata\"], properties[\"ydata\"], xerr=None, yerr=properties[\"errorbars\"], capsize=5,\n",
    "                marker = properties[\"marker\"], linestyle = properties[\"linestyle\"], color = properties[\"color\"],\n",
    "                label = properties[\"name\"])\n",
    "\n",
    "    # check for regression\n",
    "    if properties[\"regression\"] is True:\n",
    "        reg = dp.Regression()\n",
    "        xdf = pd.DataFrame(properties[\"xdata\"]) #xdf was originally dataset[\"xdata\"] and this line was not here\n",
    "        ydf = pd.DataFrame(properties[\"data\"]) # problem is only because delete_nans generates list, but if they are changed to df, some more errors occure. URGENT\n",
    "        y_pred, m, c = reg.linreg(xdf.values.reshape(-1, 1), ydf.values, properties[\"name\"], do_linreg = True)\n",
    "        ax.plot(xdf, y_pred, color = properties[\"color\"]) # xdf = spells.ydata[0][\"xdata\"]\n",
    "\n",
    "\n",
    "# adjust plot\n",
    "ax.set_xlabel(hp.pp[\"xlabel\"])\n",
    "ax.set_ylabel(hp.pp[\"ylabel\"])\n",
    "ax.xaxis.set_ticks_position('both')\n",
    "ax.yaxis.set_ticks_position('both')\n",
    "\n",
    "ax.set_xlim(hp.pp[\"x-range\"])\n",
    "ax.set_ylim(hp.pp[\"y-range\"])\n",
    "\n",
    "xt, yt = hp.set_lin_log()\n",
    "ax.set_xscale(xt)\n",
    "ax.set_yscale(yt)\n",
    "\n",
    "if hp.pp[\"xtick_number\"] is not None:\n",
    "    ax.xaxis.set_major_locator(hp.pp[\"xtick_number\"])\n",
    "if hp.pp[\"ytick_number\"] is not None:\n",
    "    ax.yaxis.set_major_locator(hp.pp[\"ytick_number\"])\n",
    "\n",
    "xminor, yminor = hp.minor_locator()\n",
    "if hp.pp[\"xaxis-type\"] != \"log\":\n",
    "    ax.xaxis.set_minor_locator(AutoMinorLocator(xminor))\n",
    "if hp.pp[\"yaxis-type\"] != \"log\":\n",
    "    ax.yaxis.set_minor_locator(AutoMinorLocator(yminor))\n",
    "\n",
    "ax.yaxis.label.set_size(10*hp.pp[\"fontsizefactor\"])\n",
    "ax.xaxis.label.set_size(10*hp.pp[\"fontsizefactor\"])\n",
    "ax.tick_params(axis=\"x\", labelsize = 10*hp.pp[\"fontsizefactor\"])\n",
    "ax.tick_params(axis=\"y\", labelsize = 10*hp.pp[\"fontsizefactor\"])\n",
    "\n",
    "\n",
    "##############\n",
    "#Add user defined stuff here\n",
    "#ax.axvline(x=375, label=\"Emission 375 nm\", color=\"red\")\n",
    "#ax.axvspan(370, 380, alpha=0.2, color='red')\n",
    "##############\n",
    "\n",
    "\n",
    "\n",
    "legend = ax.legend()"
   ]
  },
  {
   "cell_type": "markdown",
   "id": "4adb7a49-3d1f-4632-aade-c2f533e712a2",
   "metadata": {},
   "source": [
    "#### Save figure"
   ]
  },
  {
   "cell_type": "code",
   "execution_count": 10,
   "id": "a93c2a96-a6c1-4313-bbcc-5554323bac77",
   "metadata": {},
   "outputs": [],
   "source": [
    "savepath = path.join(pathtofile, plot_properties[\"figname\"])\n",
    "for file_format in plot_properties[\"formats\"]:\n",
    "    fig.savefig(savepath + '.%s' % file_format, dpi=600, format=file_format)"
   ]
  }
 ],
 "metadata": {
  "kernelspec": {
   "display_name": "Python 3 (ipykernel)",
   "language": "python",
   "name": "python3"
  },
  "language_info": {
   "codemirror_mode": {
    "name": "ipython",
    "version": 3
   },
   "file_extension": ".py",
   "mimetype": "text/x-python",
   "name": "python",
   "nbconvert_exporter": "python",
   "pygments_lexer": "ipython3",
   "version": "3.11.7"
  }
 },
 "nbformat": 4,
 "nbformat_minor": 5
}
