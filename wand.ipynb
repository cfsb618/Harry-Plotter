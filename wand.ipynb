{
 "cells": [
  {
   "cell_type": "code",
   "execution_count": 1,
   "id": "6abe9f4b-27da-4b08-bfed-ca3fae2d8cd5",
   "metadata": {},
   "outputs": [],
   "source": [
    "import numpy as np\n",
    "import pandas as pd\n",
    "import matplotlib.pyplot as plt\n",
    "#from matplotlib import ticker\n",
    "from matplotlib.ticker import (MultipleLocator, AutoMinorLocator)\n",
    "\n",
    "from numbers_parser import Document\n",
    "from os import path as path\n",
    "import collections\n",
    "\n",
    "import Dumbleplot as dp"
   ]
  },
  {
   "cell_type": "markdown",
   "id": "1b8ae90e-5589-454c-9487-9dbd1b62bf75",
   "metadata": {},
   "source": [
    "#### Do: Give path to file and filename:"
   ]
  },
  {
   "cell_type": "code",
   "execution_count": 2,
   "id": "9cd9b91a-88f2-4652-bfe9-ee266a47049b",
   "metadata": {},
   "outputs": [],
   "source": [
    "pathtofile = \"/Users/scibook/Eigen/PhD/Experiments/LLPS/20240206 ANS-PEG interaction/Analysis\"\n",
    "filename = \"fluorescence.numbers\""
   ]
  },
  {
   "cell_type": "markdown",
   "id": "c6bd936d-f540-46f0-8593-6b68f47564c1",
   "metadata": {},
   "source": [
    "#### Do: Give information how your data is organised:"
   ]
  },
  {
   "cell_type": "code",
   "execution_count": 3,
   "id": "4f61567c-4cd2-410c-9c33-89c2962f1ab8",
   "metadata": {},
   "outputs": [],
   "source": [
    "how_many_datasets_to_display = 1\n",
    "data_organised_in_rows_or_columns = \"rows\""
   ]
  },
  {
   "cell_type": "markdown",
   "id": "bcec4b07-04e0-4af8-be98-d9e93c5b09a7",
   "metadata": {},
   "source": [
    "#### Do: Give information where to find your data:"
   ]
  },
  {
   "cell_type": "code",
   "execution_count": 4,
   "id": "ed7b9f85-3595-47d6-8b61-84b4c852fdaf",
   "metadata": {},
   "outputs": [],
   "source": [
    "get_data_from_sheet_nr = 0\n",
    "talbe_nr = 4  # only relevant for .numbers-files\n",
    "\n",
    "first_cell = 2, \"name\"  # row, column\n",
    "last_cell = 3, \"t12\""
   ]
  },
  {
   "cell_type": "markdown",
   "id": "e0be23ac-6b12-4c4f-bf68-a79dd2425549",
   "metadata": {},
   "source": [
    "#### Import Data"
   ]
  },
  {
   "cell_type": "code",
   "execution_count": 5,
   "id": "15a8be93-17da-4943-9723-f459eb5222b5",
   "metadata": {
    "jupyter": {
     "source_hidden": true
    }
   },
   "outputs": [],
   "source": [
    "spellbook = dp.DataImport(pathtofile, filename)\n",
    "spellbook.import_data(get_data_from_sheet_nr, talbe_nr)"
   ]
  },
  {
   "cell_type": "markdown",
   "id": "ed846248-661f-4a7c-becc-72e6acab8c7e",
   "metadata": {},
   "source": [
    "#### Display full table"
   ]
  },
  {
   "cell_type": "code",
   "execution_count": 6,
   "id": "a6bcf6b9-e45e-4fcf-afc1-8ec149f4012f",
   "metadata": {
    "jupyter": {
     "source_hidden": true
    }
   },
   "outputs": [
    {
     "data": {
      "text/html": [
       "<div>\n",
       "<style scoped>\n",
       "    .dataframe tbody tr th:only-of-type {\n",
       "        vertical-align: middle;\n",
       "    }\n",
       "\n",
       "    .dataframe tbody tr th {\n",
       "        vertical-align: top;\n",
       "    }\n",
       "\n",
       "    .dataframe thead th {\n",
       "        text-align: right;\n",
       "    }\n",
       "</style>\n",
       "<table border=\"1\" class=\"dataframe\">\n",
       "  <thead>\n",
       "    <tr style=\"text-align: right;\">\n",
       "      <th></th>\n",
       "      <th>name</th>\n",
       "      <th>t2</th>\n",
       "      <th>t3</th>\n",
       "      <th>t4</th>\n",
       "      <th>t5</th>\n",
       "      <th>t6</th>\n",
       "      <th>t7</th>\n",
       "      <th>t8</th>\n",
       "      <th>t10</th>\n",
       "      <th>t12</th>\n",
       "    </tr>\n",
       "  </thead>\n",
       "  <tbody>\n",
       "    <tr>\n",
       "      <th>0</th>\n",
       "      <td>h:mm</td>\n",
       "      <td>2024-02-07 15:24:00+00:00</td>\n",
       "      <td>2024-02-07 15:53:00+00:00</td>\n",
       "      <td>2024-02-07 16:22:00+00:00</td>\n",
       "      <td>2024-02-07 16:26:00+00:00</td>\n",
       "      <td>2024-02-07 16:29:00+00:00</td>\n",
       "      <td>2024-02-07 16:44:00+00:00</td>\n",
       "      <td>2024-02-07 17:03:00+00:00</td>\n",
       "      <td>2024-02-07 17:36:00+00:00</td>\n",
       "      <td>2024-02-07 18:01:00+00:00</td>\n",
       "    </tr>\n",
       "    <tr>\n",
       "      <th>1</th>\n",
       "      <td>delta</td>\n",
       "      <td>None</td>\n",
       "      <td>29 minutes</td>\n",
       "      <td>58 minutes</td>\n",
       "      <td>1 hour 2 minutes</td>\n",
       "      <td>1 hour 5 minutes</td>\n",
       "      <td>1 hour 20 minutes</td>\n",
       "      <td>1 hour 39 minutes</td>\n",
       "      <td>2 hours 12 minutes</td>\n",
       "      <td>2 hours 37 minutes</td>\n",
       "    </tr>\n",
       "    <tr>\n",
       "      <th>2</th>\n",
       "      <td>min</td>\n",
       "      <td>0.0</td>\n",
       "      <td>29.0</td>\n",
       "      <td>58.0</td>\n",
       "      <td>62.0</td>\n",
       "      <td>65.0</td>\n",
       "      <td>80.0</td>\n",
       "      <td>99.0</td>\n",
       "      <td>122.0</td>\n",
       "      <td>157.0</td>\n",
       "    </tr>\n",
       "    <tr>\n",
       "      <th>3</th>\n",
       "      <td>6% Ammonium sulfate | 12% PEG</td>\n",
       "      <td>1.0</td>\n",
       "      <td>1.106631</td>\n",
       "      <td>1.333988</td>\n",
       "      <td>1.333988</td>\n",
       "      <td>1.333988</td>\n",
       "      <td>1.376193</td>\n",
       "      <td>1.447153</td>\n",
       "      <td>1.661884</td>\n",
       "      <td>1.931902</td>\n",
       "    </tr>\n",
       "  </tbody>\n",
       "</table>\n",
       "</div>"
      ],
      "text/plain": [
       "                            name                         t2  \\\n",
       "0                           h:mm  2024-02-07 15:24:00+00:00   \n",
       "1                          delta                       None   \n",
       "2                            min                        0.0   \n",
       "3  6% Ammonium sulfate | 12% PEG                        1.0   \n",
       "\n",
       "                          t3                         t4  \\\n",
       "0  2024-02-07 15:53:00+00:00  2024-02-07 16:22:00+00:00   \n",
       "1                 29 minutes                 58 minutes   \n",
       "2                       29.0                       58.0   \n",
       "3                   1.106631                   1.333988   \n",
       "\n",
       "                          t5                         t6  \\\n",
       "0  2024-02-07 16:26:00+00:00  2024-02-07 16:29:00+00:00   \n",
       "1           1 hour 2 minutes           1 hour 5 minutes   \n",
       "2                       62.0                       65.0   \n",
       "3                   1.333988                   1.333988   \n",
       "\n",
       "                          t7                         t8  \\\n",
       "0  2024-02-07 16:44:00+00:00  2024-02-07 17:03:00+00:00   \n",
       "1          1 hour 20 minutes          1 hour 39 minutes   \n",
       "2                       80.0                       99.0   \n",
       "3                   1.376193                   1.447153   \n",
       "\n",
       "                         t10                        t12  \n",
       "0  2024-02-07 17:36:00+00:00  2024-02-07 18:01:00+00:00  \n",
       "1         2 hours 12 minutes         2 hours 37 minutes  \n",
       "2                      122.0                      157.0  \n",
       "3                   1.661884                   1.931902  "
      ]
     },
     "execution_count": 6,
     "metadata": {},
     "output_type": "execute_result"
    }
   ],
   "source": [
    "spellbook.df"
   ]
  },
  {
   "cell_type": "markdown",
   "id": "1d780435-11db-46a1-8609-df5c86970a93",
   "metadata": {},
   "source": [
    "#### select and display data"
   ]
  },
  {
   "cell_type": "code",
   "execution_count": 7,
   "id": "1dcec43e-d180-440a-a0e6-03e3af3924c0",
   "metadata": {
    "jupyter": {
     "source_hidden": true
    }
   },
   "outputs": [
    {
     "data": {
      "text/html": [
       "<div>\n",
       "<style scoped>\n",
       "    .dataframe tbody tr th:only-of-type {\n",
       "        vertical-align: middle;\n",
       "    }\n",
       "\n",
       "    .dataframe tbody tr th {\n",
       "        vertical-align: top;\n",
       "    }\n",
       "\n",
       "    .dataframe thead th {\n",
       "        text-align: right;\n",
       "    }\n",
       "</style>\n",
       "<table border=\"1\" class=\"dataframe\">\n",
       "  <thead>\n",
       "    <tr style=\"text-align: right;\">\n",
       "      <th></th>\n",
       "      <th>name</th>\n",
       "      <th>t2</th>\n",
       "      <th>t3</th>\n",
       "      <th>t4</th>\n",
       "      <th>t5</th>\n",
       "      <th>t6</th>\n",
       "      <th>t7</th>\n",
       "      <th>t8</th>\n",
       "      <th>t10</th>\n",
       "      <th>t12</th>\n",
       "    </tr>\n",
       "  </thead>\n",
       "  <tbody>\n",
       "    <tr>\n",
       "      <th>2</th>\n",
       "      <td>min</td>\n",
       "      <td>0.0</td>\n",
       "      <td>29.0</td>\n",
       "      <td>58.0</td>\n",
       "      <td>62.0</td>\n",
       "      <td>65.0</td>\n",
       "      <td>80.0</td>\n",
       "      <td>99.0</td>\n",
       "      <td>122.0</td>\n",
       "      <td>157.0</td>\n",
       "    </tr>\n",
       "    <tr>\n",
       "      <th>3</th>\n",
       "      <td>6% Ammonium sulfate | 12% PEG</td>\n",
       "      <td>1.0</td>\n",
       "      <td>1.106631</td>\n",
       "      <td>1.333988</td>\n",
       "      <td>1.333988</td>\n",
       "      <td>1.333988</td>\n",
       "      <td>1.376193</td>\n",
       "      <td>1.447153</td>\n",
       "      <td>1.661884</td>\n",
       "      <td>1.931902</td>\n",
       "    </tr>\n",
       "  </tbody>\n",
       "</table>\n",
       "</div>"
      ],
      "text/plain": [
       "                            name   t2        t3        t4        t5        t6  \\\n",
       "2                            min  0.0      29.0      58.0      62.0      65.0   \n",
       "3  6% Ammonium sulfate | 12% PEG  1.0  1.106631  1.333988  1.333988  1.333988   \n",
       "\n",
       "         t7        t8       t10       t12  \n",
       "2      80.0      99.0     122.0     157.0  \n",
       "3  1.376193  1.447153  1.661884  1.931902  "
      ]
     },
     "execution_count": 7,
     "metadata": {},
     "output_type": "execute_result"
    }
   ],
   "source": [
    "n = 0\n",
    "spells = dp.Data(how_many_datasets_to_display, data_organised_in_rows_or_columns) \n",
    "spells.get_data(spellbook.df, first_cell, last_cell)\n",
    "spells.data_table"
   ]
  },
  {
   "cell_type": "code",
   "execution_count": 8,
   "id": "98029ca3-14f7-4b89-ad3c-ed74e53db038",
   "metadata": {
    "jupyter": {
     "source_hidden": true
    }
   },
   "outputs": [],
   "source": [
    "spells.make_dict()\n",
    "spells.get_xdata()\n",
    "spells.delete_nans()"
   ]
  },
  {
   "cell_type": "markdown",
   "id": "848d3675-4eb2-4da7-9b0a-44fb89f64df0",
   "metadata": {},
   "source": [
    "#### specify plot properties of each dataset"
   ]
  },
  {
   "cell_type": "code",
   "execution_count": 9,
   "id": "1823a34c-db2a-47af-ae87-2ce3b6855028",
   "metadata": {},
   "outputs": [],
   "source": [
    "# copy for each dataset you want to display\n",
    "\n",
    "spells.ydata[n][\"marker\"] = \"o\"\n",
    "spells.ydata[n][\"linestyle\"] = \"solid\"\n",
    "spells.ydata[n][\"color\"] = None  # \"None\" for default colors, alternative: hexcolors or names (hence \"green\")\n",
    "\n",
    "n += 1  # do not change"
   ]
  },
  {
   "cell_type": "markdown",
   "id": "b87529f5-6ddf-4603-8383-7850d86bead1",
   "metadata": {},
   "source": [
    "#### specify the properties of the general plot"
   ]
  },
  {
   "cell_type": "code",
   "execution_count": 34,
   "id": "7a9750dd-a4b5-4bfd-a734-dc851cf31e50",
   "metadata": {},
   "outputs": [],
   "source": [
    "# specify the properties of the general plot\n",
    "plot_properties = {\n",
    "    \"figname\" : \"fluorescence fold droplet 11\",\n",
    "    \"formats\" : [\"svg\", \"png\"],  # \"svg\", \"png\", \"jpeg\", \"bmp\"\n",
    "    \"xlabel\" : \"time [min]\",\n",
    "    \"ylabel\" : \"fluorescence fold [AU]\",\n",
    "    \"x-range\" : [None, None],  # [None, None] for default, otherwise [startvalue, endvalue]\n",
    "    \"y-range\" : [None, None],  \n",
    "    \"x-ticks\" : 5,  # specify number of labeld major ticks on each axis, None is automode\n",
    "    \"y-ticks\" : None,  \n",
    "    \"x-minor\" : 2,  # specify number of minor ticks between major ticks, 2 or 5 is best, None is automode\n",
    "    \"y-minor\" : 2,\n",
    "    \"fontsizefactor\" : 1.2\n",
    "}"
   ]
  },
  {
   "cell_type": "markdown",
   "id": "1fee4d5f-c236-4783-a7d0-dadf99ab3a2e",
   "metadata": {},
   "source": [
    "#### Accio Plot"
   ]
  },
  {
   "cell_type": "code",
   "execution_count": 35,
   "id": "1e699535-e218-4762-907a-d06d1362392b",
   "metadata": {
    "jupyter": {
     "source_hidden": true
    }
   },
   "outputs": [],
   "source": [
    "hp = dp.Plotter(plot_properties)\n",
    "hp.set_limits()\n",
    "hp.set_major_ticks()"
   ]
  },
  {
   "cell_type": "code",
   "execution_count": 36,
   "id": "858cb8a2-285b-4dc3-9c6f-3b74f41addb4",
   "metadata": {},
   "outputs": [
    {
     "data": {
      "text/plain": [
       "<matplotlib.legend.Legend at 0x11f040bd0>"
      ]
     },
     "execution_count": 36,
     "metadata": {},
     "output_type": "execute_result"
    },
    {
     "data": {
      "image/png": "[encoded data removed]",
      "text/plain": [
       "<Figure size 640x480 with 1 Axes>"
      ]
     },
     "metadata": {},
     "output_type": "display_data"
    }
   ],
   "source": [
    "# main plot; all in one\n",
    "fig = plt.figure()\n",
    "ax = fig.add_subplot(111)\n",
    "\n",
    "for data in spells.ydata:\n",
    "    dataset = spells.ydata[data]\n",
    "    ax.plot(dataset[\"xdata\"], dataset[\"data\"],\n",
    "            marker = dataset[\"marker\"], linestyle = dataset[\"linestyle\"], color = dataset[\"color\"], label = dataset[\"name\"])\n",
    "\n",
    "ax.set_xlabel(hp.pp[\"xlabel\"])\n",
    "ax.set_ylabel(hp.pp[\"ylabel\"])\n",
    "ax.xaxis.set_ticks_position('both')\n",
    "ax.yaxis.set_ticks_position('both')\n",
    "if hp.pp[\"xtick_number\"] is not None:\n",
    "    ax.xaxis.set_major_locator(hp.pp[\"xtick_number\"])\n",
    "if hp.pp[\"ytick_number\"] is not None:\n",
    "    ax.yaxis.set_major_locator(hp.pp[\"ytick_number\"])\n",
    "if hp.pp[\"x-minor\"] is not None:\n",
    "    ax.xaxis.set_minor_locator(AutoMinorLocator(hp.pp[\"x-minor\"]))\n",
    "if hp.pp[\"y-minor\"] is not None:\n",
    "    ax.yaxis.set_minor_locator(AutoMinorLocator(hp.pp[\"y-minor\"]))\n",
    "ax.yaxis.label.set_size(10*hp.pp[\"fontsizefactor\"])\n",
    "ax.xaxis.label.set_size(10*hp.pp[\"fontsizefactor\"])\n",
    "ax.tick_params(axis=\"x\", labelsize = 10*hp.pp[\"fontsizefactor\"])\n",
    "ax.tick_params(axis=\"y\", labelsize = 10*hp.pp[\"fontsizefactor\"])\n",
    "\n",
    "ax.legend()"
   ]
  },
  {
   "cell_type": "markdown",
   "id": "4adb7a49-3d1f-4632-aade-c2f533e712a2",
   "metadata": {},
   "source": [
    "#### Save figure"
   ]
  },
  {
   "cell_type": "code",
   "execution_count": null,
   "id": "a93c2a96-a6c1-4313-bbcc-5554323bac77",
   "metadata": {},
   "outputs": [],
   "source": [
    "savepath = path.join(pathtofile, plot_properties[\"figname\"])\n",
    "for file_format in plot_properties[\"formats\"]:\n",
    "    fig.savefig(savepath + '.%s' % file_format, dpi=600, format=file_format)"
   ]
  },
  {
   "cell_type": "code",
   "execution_count": null,
   "id": "4ef6cad6-d884-4a5b-a424-32b8b83e1bcf",
   "metadata": {},
   "outputs": [],
   "source": [
    "# secondary plot, indivual datasets"
   ]
  }
 ],
 "metadata": {
  "kernelspec": {
   "display_name": "Python 3 (ipykernel)",
   "language": "python",
   "name": "python3"
  },
  "language_info": {
   "codemirror_mode": {
    "name": "ipython",
    "version": 3
   },
   "file_extension": ".py",
   "mimetype": "text/x-python",
   "name": "python",
   "nbconvert_exporter": "python",
   "pygments_lexer": "ipython3",
   "version": "3.11.7"
  }
 },
 "nbformat": 4,
 "nbformat_minor": 5
}
